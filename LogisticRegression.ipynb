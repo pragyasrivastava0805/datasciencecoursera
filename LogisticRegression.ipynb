{
  "nbformat": 4,
  "nbformat_minor": 0,
  "metadata": {
    "colab": {
      "name": "LogisticRegression",
      "provenance": [],
      "authorship_tag": "ABX9TyPxjzN6CN+p57rF0sPa4GG5",
      "include_colab_link": true
    },
    "kernelspec": {
      "name": "python3",
      "display_name": "Python 3"
    },
    "language_info": {
      "name": "python"
    }
  },
  "cells": [
    {
      "cell_type": "markdown",
      "metadata": {
        "id": "view-in-github",
        "colab_type": "text"
      },
      "source": [
        "<a href=\"https://colab.research.google.com/github/pragyasrivastava0805/datasciencecoursera/blob/master/LogisticRegression.ipynb\" target=\"_parent\"><img src=\"https://colab.research.google.com/assets/colab-badge.svg\" alt=\"Open In Colab\"/></a>"
      ]
    },
    {
      "cell_type": "code",
      "metadata": {
        "colab": {
          "base_uri": "https://localhost:8080/"
        },
        "id": "tkkjSnN4A5iH",
        "outputId": "a6f393a4-4b72-4554-87c7-bb1edee4f5ca"
      },
      "source": [
        "import torch\n",
        "import torch.nn as nn\n",
        "import torchvision\n",
        "import torchvision.transforms as transforms\n",
        "\n",
        "\n",
        "input_size=28*28\n",
        "num_classes=10\n",
        "num_epochs=10\n",
        "batch_size=100\n",
        "learning_rate=0.001\n",
        "\n",
        "train_dataset=torchvision.datasets.MNIST(root='/data',train=True,transform=transforms.ToTensor(),download=True)\n",
        "test_dataset=torchvision.datasets.MNIST(root='/data',train=False,transform=transforms.ToTensor())\n",
        "train_loader=torch.utils.data.DataLoader(dataset=train_dataset,batch_size=batch_size,shuffle=True)\n",
        "test_loader=torch.utils.data.DataLoader(dataset=test_dataset,batch_size=batch_size,shuffle=False)\n",
        "\n",
        "model=nn.Linear(input_size,num_classes)\n",
        "\n",
        "criterion=nn.CrossEntropyLoss()\n",
        "optimizer=torch.optim.SGD(model.parameters(),lr=learning_rate)\n",
        "\n",
        "total_step=len(train_loader)\n",
        "for epoch in range(num_epochs):\n",
        "  for i,(images,labels) in enumerate(train_loader):\n",
        "    images=images.reshape(-1,input_size)\n",
        "\n",
        "    outputs=model(images)\n",
        "    loss=criterion(outputs,labels)\n",
        "\n",
        "    optimizer.zero_grad()\n",
        "    loss.backward()\n",
        "    optimizer.step()\n",
        "    if((i+1)%100==0):\n",
        "      print('Epoch[{}/{}],Step [{}/{}],Loss:{:.4f}'.format(epoch+1,num_epochs,i+1,total_step,loss.item()))\n",
        "        \n",
        "    \n"
      ],
      "execution_count": 2,
      "outputs": [
        {
          "output_type": "stream",
          "text": [
            "Epoch[1/10],Step [100/600],Loss:2.1976\n",
            "Epoch[1/10],Step [200/600],Loss:2.1282\n",
            "Epoch[1/10],Step [300/600],Loss:2.0152\n",
            "Epoch[1/10],Step [400/600],Loss:1.9258\n",
            "Epoch[1/10],Step [500/600],Loss:1.8779\n",
            "Epoch[1/10],Step [600/600],Loss:1.8618\n",
            "Epoch[2/10],Step [100/600],Loss:1.6722\n",
            "Epoch[2/10],Step [200/600],Loss:1.6155\n",
            "Epoch[2/10],Step [300/600],Loss:1.6110\n",
            "Epoch[2/10],Step [400/600],Loss:1.5730\n",
            "Epoch[2/10],Step [500/600],Loss:1.4409\n",
            "Epoch[2/10],Step [600/600],Loss:1.6078\n",
            "Epoch[3/10],Step [100/600],Loss:1.4082\n",
            "Epoch[3/10],Step [200/600],Loss:1.3391\n",
            "Epoch[3/10],Step [300/600],Loss:1.3578\n",
            "Epoch[3/10],Step [400/600],Loss:1.3885\n",
            "Epoch[3/10],Step [500/600],Loss:1.2701\n",
            "Epoch[3/10],Step [600/600],Loss:1.2824\n",
            "Epoch[4/10],Step [100/600],Loss:1.2381\n",
            "Epoch[4/10],Step [200/600],Loss:1.2481\n",
            "Epoch[4/10],Step [300/600],Loss:1.2222\n",
            "Epoch[4/10],Step [400/600],Loss:1.1201\n",
            "Epoch[4/10],Step [500/600],Loss:1.1524\n",
            "Epoch[4/10],Step [600/600],Loss:1.1648\n",
            "Epoch[5/10],Step [100/600],Loss:1.0120\n",
            "Epoch[5/10],Step [200/600],Loss:1.2300\n",
            "Epoch[5/10],Step [300/600],Loss:1.0570\n",
            "Epoch[5/10],Step [400/600],Loss:1.0168\n",
            "Epoch[5/10],Step [500/600],Loss:1.0412\n",
            "Epoch[5/10],Step [600/600],Loss:1.0453\n",
            "Epoch[6/10],Step [100/600],Loss:0.9635\n",
            "Epoch[6/10],Step [200/600],Loss:0.9227\n",
            "Epoch[6/10],Step [300/600],Loss:0.8875\n",
            "Epoch[6/10],Step [400/600],Loss:0.9344\n",
            "Epoch[6/10],Step [500/600],Loss:0.9891\n",
            "Epoch[6/10],Step [600/600],Loss:0.8743\n",
            "Epoch[7/10],Step [100/600],Loss:0.8959\n",
            "Epoch[7/10],Step [200/600],Loss:0.8619\n",
            "Epoch[7/10],Step [300/600],Loss:0.7847\n",
            "Epoch[7/10],Step [400/600],Loss:0.8948\n",
            "Epoch[7/10],Step [500/600],Loss:0.8717\n",
            "Epoch[7/10],Step [600/600],Loss:0.8526\n",
            "Epoch[8/10],Step [100/600],Loss:0.9053\n",
            "Epoch[8/10],Step [200/600],Loss:0.9069\n",
            "Epoch[8/10],Step [300/600],Loss:0.8444\n",
            "Epoch[8/10],Step [400/600],Loss:0.9081\n",
            "Epoch[8/10],Step [500/600],Loss:0.8947\n",
            "Epoch[8/10],Step [600/600],Loss:0.7717\n",
            "Epoch[9/10],Step [100/600],Loss:0.7610\n",
            "Epoch[9/10],Step [200/600],Loss:0.8738\n",
            "Epoch[9/10],Step [300/600],Loss:0.7764\n",
            "Epoch[9/10],Step [400/600],Loss:0.8690\n",
            "Epoch[9/10],Step [500/600],Loss:0.8345\n",
            "Epoch[9/10],Step [600/600],Loss:0.7563\n",
            "Epoch[10/10],Step [100/600],Loss:0.7118\n",
            "Epoch[10/10],Step [200/600],Loss:0.8021\n",
            "Epoch[10/10],Step [300/600],Loss:0.8137\n",
            "Epoch[10/10],Step [400/600],Loss:0.6817\n",
            "Epoch[10/10],Step [500/600],Loss:0.7576\n",
            "Epoch[10/10],Step [600/600],Loss:0.7597\n"
          ],
          "name": "stdout"
        }
      ]
    },
    {
      "cell_type": "code",
      "metadata": {
        "colab": {
          "base_uri": "https://localhost:8080/"
        },
        "id": "7MW_cxkpMW-a",
        "outputId": "267f4295-5057-40d3-802d-11b08875ad2f"
      },
      "source": [
        "with torch.no_grad():\n",
        "  correct=0\n",
        "  total=0\n",
        "  for (images,labels) in test_loader:\n",
        "    images=images.reshape(-1,input_size)\n",
        "    output=model(images)\n",
        "    _,predicted=torch.max(output.data,1)\n",
        "    total+=labels.size(0)\n",
        "    correct+=(labels==predicted).sum()\n",
        "  print('Accuracy of the model on the 10000 test images: {} %'.format(100 * correct / total))\n",
        "torch.save(model.state_dict(),'model_checkpoint')\n"
      ],
      "execution_count": 3,
      "outputs": [
        {
          "output_type": "stream",
          "text": [
            "Accuracy of the model on the 10000 test images: 85.27999877929688 %\n"
          ],
          "name": "stdout"
        }
      ]
    },
    {
      "cell_type": "code",
      "metadata": {
        "id": "XURM2yplRmJy"
      },
      "source": [
        ""
      ],
      "execution_count": null,
      "outputs": []
    }
  ]
}